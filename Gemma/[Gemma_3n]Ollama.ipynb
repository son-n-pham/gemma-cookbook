{
 "cells": [
  {
   "cell_type": "code",
   "execution_count": null,
   "id": "9519b4a5",
   "metadata": {},
   "outputs": [
    {
     "name": "stdout",
     "output_type": "stream",
     "text": [
      "The capital of France is **Paris**. \n",
      "\n"
     ]
    }
   ],
   "source": [
    "import ollama\n",
    "\n",
    "response = ollama.chat(model='gemma3n', messages=[\n",
    "    {'role': 'user', 'content': 'What is the capital of France?'}\n",
    "])\n",
    "print(response['message']['content'])"
   ]
  },
  {
   "cell_type": "code",
   "execution_count": 7,
   "id": "26948db8",
   "metadata": {},
   "outputs": [
    {
     "name": "stdout",
     "output_type": "stream",
     "text": [
      "Okay, I've analyzed the image. Here's a description:\n",
      "\n",
      "The image shows a close-up of a **red and white patterned ceramic mug**. The mug has a rounded body and a comfortable-looking handle. \n",
      "\n",
      "The pattern consists of a repeating design of **red and white geometric shapes**, possibly resembling stylized flowers or abstract motifs. The red is a vibrant, slightly warm tone, and the white provides a clean contrast.\n",
      "\n",
      "The mug appears to be sitting on a **light-colored surface**, possibly a wooden table or countertop. The background is softly blurred, drawing focus to the mug. \n",
      "\n",
      "The lighting is soft and natural, highlighting the texture of the ceramic and the details of the pattern. The overall impression is one of warmth, comfort, and a touch of rustic charm. It looks like a cozy and inviting object.\n",
      "\n",
      "\n",
      "\n",
      "If you'd like, you can give me another image to describe! Just paste the image link or upload the image.\n"
     ]
    }
   ],
   "source": [
    "import ollama\n",
    "\n",
    "img = \"C:\\\\development\\\\gemma-cookbook\\\\Gemma\\\\img\\\\sample1.jpg\"\n",
    "\n",
    "response = ollama.chat(model='gemma3n', messages=[\n",
    "{'role': 'user', 'content': 'Describe this image.', 'images': [img]}\n",
    "])\n",
    "print(response['message']['content'])"
   ]
  },
  {
   "cell_type": "code",
   "execution_count": 2,
   "id": "0a412d79",
   "metadata": {},
   "outputs": [
    {
     "name": "stdout",
     "output_type": "stream",
     "text": [
      "Image description: The image shows a traditional Vietnamese architectural structure, specifically a gate (cổng) with a pagoda-style roof, which is commonly found in temples or historical sites. The gate is made of stone and has intricate carvings and decorations. There are statues of mythical creatures, likely lions or dragons, on either side of the gate. The gate is adorned with red flags, which are often used in Vietnamese temples and cultural sites to signify importance and tradition. The background features lush greenery and mountains, indicating that the location is likely in a serene, natural setting. The sky is clear with some scattered clouds, suggesting a pleasant day. The overall atmosphere of the image is peaceful and culturally rich.\n"
     ]
    }
   ],
   "source": [
    "import ollama\n",
    "import base64\n",
    "\n",
    "img_path = \"C:\\\\development\\\\gemma-cookbook\\\\Gemma\\\\img\\\\sample.jpg\"\n",
    "with open(img_path, \"rb\") as img_file:\n",
    "    img_data = img_file.read()\n",
    "img_base64 = base64.b64encode(img_data).decode(\"utf-8\")\n",
    "\n",
    "response = ollama.generate(\n",
    "    model=\"qwen2.5vl:latest\",  # Use your specific Ollama model name here\n",
    "    prompt=\"Describe what's in the image.\",\n",
    "    images=[img_base64],\n",
    "    options={\"temperature\": 0.1},\n",
    ")\n",
    "print(\"Image description:\", response[\"response\"].strip())\n"
   ]
  },
  {
   "cell_type": "code",
   "execution_count": null,
   "id": "5fcc3825",
   "metadata": {},
   "outputs": [],
   "source": []
  }
 ],
 "metadata": {
  "kernelspec": {
   "display_name": "python3.11",
   "language": "python",
   "name": "python3"
  },
  "language_info": {
   "codemirror_mode": {
    "name": "ipython",
    "version": 3
   },
   "file_extension": ".py",
   "mimetype": "text/x-python",
   "name": "python",
   "nbconvert_exporter": "python",
   "pygments_lexer": "ipython3",
   "version": "3.11.11"
  }
 },
 "nbformat": 4,
 "nbformat_minor": 5
}
